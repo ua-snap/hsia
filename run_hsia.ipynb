{
 "cells": [
  {
   "cell_type": "markdown",
   "id": "149919a6-95e7-495b-9bd9-5e20c1be71f7",
   "metadata": {},
   "source": [
    "# Update HSIA data\n",
    "\n",
    "This notebook updates the data at [data.snap.uaf.edu/data/Base/Other/Historical_Sea_Ice_Atlas](http://data.snap.uaf.edu/data/Base/Other/Historical_Sea_Ice_Atlas/). This pipeline builds on the existing data by simply updating it with the newest year of data if avaialble - it does not produce the entire dataset.\n",
    "\n",
    "\n",
    "These data are no longer used in SNAP's [historical sea ice atlas tool](https://www.snap.uaf.edu/tools/sea-ice-atlas), as they have been replaced by the [SIBT1850 pan-arctic dataset](https://nsidc.org/data/G10010/versions/2), but they are still updated ann"
   ]
  },
  {
   "cell_type": "markdown",
   "id": "bce502f5-ec5a-43f3-a51f-304b3c5dcf84",
   "metadata": {},
   "source": [
    "## 2020 update\n",
    "\n",
    "It is currently Nov. 2021, and the most recent data present in the dataset are the 2019 observations, so it is time to update this dataset with the 2020 data."
   ]
  },
  {
   "cell_type": "markdown",
   "id": "73ebbf13-856f-4b92-bb6a-e7852765a020",
   "metadata": {},
   "source": [
    "### 1. Download new data\n",
    "\n",
    "Download new data from the NSIDC. These data of interest are in the [0051 dataset](https://nsidc.org/data/nsidc-0051). Change the user options as needed at the top of the following code cell:"
   ]
  },
  {
   "cell_type": "code",
   "execution_count": 8,
   "id": "abf14060-c7b7-4d3a-b1f7-c9773e913dc4",
   "metadata": {
    "collapsed": true,
    "jupyter": {
     "outputs_hidden": true
    },
    "tags": []
   },
   "outputs": [
    {
     "name": "stdout",
     "output_type": "stream",
     "text": [
      "01\n"
     ]
    },
    {
     "name": "stderr",
     "output_type": "stream",
     "text": [
      "--2021-11-12 15:48:05--  https://daacdata.apps.nsidc.org/pub/DATASETS/nsidc0051_gsfc_nasateam_seaice/final-gsfc/north/monthly/nt_202001_f17_v1.1_n.bin\n",
      "Resolving daacdata.apps.nsidc.org (daacdata.apps.nsidc.org)... 128.138.135.43\n",
      "Connecting to daacdata.apps.nsidc.org (daacdata.apps.nsidc.org)|128.138.135.43|:443... connected.\n",
      "WARNING: cannot verify daacdata.apps.nsidc.org's certificate, issued by ‘/C=US/O=Let's Encrypt/CN=R3’:\n",
      "  Issued certificate has expired.\n",
      "HTTP request sent, awaiting response... 200 OK\n",
      "Length: 136492 (133K) [application/octet-stream]\n",
      "Saving to: ‘/workspace/Shared/Tech_Projects/Sea_Ice_Atlas/project_data/hsia_updates/nsidc_raw/2020/nt_202001_f17_v1.1_n.bin’\n",
      "\n",
      "     0K .......... .......... .......... .......... .......... 37%  379K 0s\n",
      "    50K .......... .......... .......... .......... .......... 75%  764K 0s\n",
      "   100K .......... .......... .......... ...                  100% 71.2M=0.2s\n",
      "\n",
      "2021-11-12 15:48:05 (674 KB/s) - ‘/workspace/Shared/Tech_Projects/Sea_Ice_Atlas/project_data/hsia_updates/nsidc_raw/2020/nt_202001_f17_v1.1_n.bin’ saved [136492/136492]\n",
      "\n",
      "FINISHED --2021-11-12 15:48:05--\n",
      "Total wall clock time: 0.7s\n",
      "Downloaded: 1 files, 133K in 0.2s (674 KB/s)\n",
      "--2021-11-12 15:48:06--  https://daacdata.apps.nsidc.org/pub/DATASETS/nsidc0051_gsfc_nasateam_seaice/final-gsfc/north/monthly/nt_202002_f17_v1.1_n.bin\n"
     ]
    },
    {
     "name": "stdout",
     "output_type": "stream",
     "text": [
      "02\n"
     ]
    },
    {
     "name": "stderr",
     "output_type": "stream",
     "text": [
      "Resolving daacdata.apps.nsidc.org (daacdata.apps.nsidc.org)... 128.138.135.43\n",
      "Connecting to daacdata.apps.nsidc.org (daacdata.apps.nsidc.org)|128.138.135.43|:443... connected.\n",
      "WARNING: cannot verify daacdata.apps.nsidc.org's certificate, issued by ‘/C=US/O=Let's Encrypt/CN=R3’:\n",
      "  Issued certificate has expired.\n",
      "HTTP request sent, awaiting response... 200 OK\n",
      "Length: 136492 (133K) [application/octet-stream]\n",
      "Saving to: ‘/workspace/Shared/Tech_Projects/Sea_Ice_Atlas/project_data/hsia_updates/nsidc_raw/2020/nt_202002_f17_v1.1_n.bin’\n",
      "\n",
      "     0K .......... .......... .......... .......... .......... 37%  379K 0s\n",
      "    50K .......... .......... .......... .......... .......... 75%  761K 0s\n",
      "   100K .......... .......... .......... ...                  100%  103M=0.2s\n",
      "\n",
      "2021-11-12 15:48:06 (673 KB/s) - ‘/workspace/Shared/Tech_Projects/Sea_Ice_Atlas/project_data/hsia_updates/nsidc_raw/2020/nt_202002_f17_v1.1_n.bin’ saved [136492/136492]\n",
      "\n",
      "FINISHED --2021-11-12 15:48:06--\n",
      "Total wall clock time: 0.5s\n",
      "Downloaded: 1 files, 133K in 0.2s (673 KB/s)\n",
      "--2021-11-12 15:48:06--  https://daacdata.apps.nsidc.org/pub/DATASETS/nsidc0051_gsfc_nasateam_seaice/final-gsfc/north/monthly/nt_202003_f17_v1.1_n.bin\n",
      "Resolving daacdata.apps.nsidc.org (daacdata.apps.nsidc.org)... 128.138.135.43\n",
      "Connecting to daacdata.apps.nsidc.org (daacdata.apps.nsidc.org)|128.138.135.43|:443... connected.\n"
     ]
    },
    {
     "name": "stdout",
     "output_type": "stream",
     "text": [
      "03\n"
     ]
    },
    {
     "name": "stderr",
     "output_type": "stream",
     "text": [
      "WARNING: cannot verify daacdata.apps.nsidc.org's certificate, issued by ‘/C=US/O=Let's Encrypt/CN=R3’:\n",
      "  Issued certificate has expired.\n",
      "HTTP request sent, awaiting response... 200 OK\n",
      "Length: 136492 (133K) [application/octet-stream]\n",
      "Saving to: ‘/workspace/Shared/Tech_Projects/Sea_Ice_Atlas/project_data/hsia_updates/nsidc_raw/2020/nt_202003_f17_v1.1_n.bin’\n",
      "\n",
      "     0K .......... .......... .......... .......... .......... 37%  377K 0s\n",
      "    50K .......... .......... .......... .......... .......... 75%  759K 0s\n",
      "   100K .......... .......... .......... ...                  100% 41.3M=0.2s\n",
      "\n",
      "2021-11-12 15:48:07 (669 KB/s) - ‘/workspace/Shared/Tech_Projects/Sea_Ice_Atlas/project_data/hsia_updates/nsidc_raw/2020/nt_202003_f17_v1.1_n.bin’ saved [136492/136492]\n",
      "\n",
      "FINISHED --2021-11-12 15:48:07--\n",
      "Total wall clock time: 0.5s\n",
      "Downloaded: 1 files, 133K in 0.2s (669 KB/s)\n",
      "--2021-11-12 15:48:07--  https://daacdata.apps.nsidc.org/pub/DATASETS/nsidc0051_gsfc_nasateam_seaice/final-gsfc/north/monthly/nt_202004_f17_v1.1_n.bin\n",
      "Resolving daacdata.apps.nsidc.org (daacdata.apps.nsidc.org)... 128.138.135.43\n",
      "Connecting to daacdata.apps.nsidc.org (daacdata.apps.nsidc.org)|128.138.135.43|:443... connected.\n"
     ]
    },
    {
     "name": "stdout",
     "output_type": "stream",
     "text": [
      "04\n"
     ]
    },
    {
     "name": "stderr",
     "output_type": "stream",
     "text": [
      "WARNING: cannot verify daacdata.apps.nsidc.org's certificate, issued by ‘/C=US/O=Let's Encrypt/CN=R3’:\n",
      "  Issued certificate has expired.\n",
      "HTTP request sent, awaiting response... 200 OK\n",
      "Length: 136492 (133K) [application/octet-stream]\n",
      "Saving to: ‘/workspace/Shared/Tech_Projects/Sea_Ice_Atlas/project_data/hsia_updates/nsidc_raw/2020/nt_202004_f17_v1.1_n.bin’\n",
      "\n",
      "     0K .......... .......... .......... .......... .......... 37%  379K 0s\n",
      "    50K .......... .......... .......... .......... .......... 75%  761K 0s\n",
      "   100K .......... .......... .......... ...                  100% 90.7M=0.2s\n",
      "\n",
      "2021-11-12 15:48:07 (674 KB/s) - ‘/workspace/Shared/Tech_Projects/Sea_Ice_Atlas/project_data/hsia_updates/nsidc_raw/2020/nt_202004_f17_v1.1_n.bin’ saved [136492/136492]\n",
      "\n",
      "FINISHED --2021-11-12 15:48:07--\n",
      "Total wall clock time: 0.5s\n",
      "Downloaded: 1 files, 133K in 0.2s (674 KB/s)\n",
      "--2021-11-12 15:48:07--  https://daacdata.apps.nsidc.org/pub/DATASETS/nsidc0051_gsfc_nasateam_seaice/final-gsfc/north/monthly/nt_202005_f17_v1.1_n.bin\n",
      "Resolving daacdata.apps.nsidc.org (daacdata.apps.nsidc.org)... 128.138.135.43\n",
      "Connecting to daacdata.apps.nsidc.org (daacdata.apps.nsidc.org)|128.138.135.43|:443... connected.\n"
     ]
    },
    {
     "name": "stdout",
     "output_type": "stream",
     "text": [
      "05\n"
     ]
    },
    {
     "name": "stderr",
     "output_type": "stream",
     "text": [
      "WARNING: cannot verify daacdata.apps.nsidc.org's certificate, issued by ‘/C=US/O=Let's Encrypt/CN=R3’:\n",
      "  Issued certificate has expired.\n",
      "HTTP request sent, awaiting response... 200 OK\n",
      "Length: 136492 (133K) [application/octet-stream]\n",
      "Saving to: ‘/workspace/Shared/Tech_Projects/Sea_Ice_Atlas/project_data/hsia_updates/nsidc_raw/2020/nt_202005_f17_v1.1_n.bin’\n",
      "\n",
      "     0K .......... .......... .......... .......... .......... 37%  378K 0s\n",
      "    50K .......... .......... .......... .......... .......... 75%  761K 0s\n",
      "   100K .......... .......... .......... ...                  100%  103M=0.2s\n",
      "\n",
      "2021-11-12 15:48:08 (672 KB/s) - ‘/workspace/Shared/Tech_Projects/Sea_Ice_Atlas/project_data/hsia_updates/nsidc_raw/2020/nt_202005_f17_v1.1_n.bin’ saved [136492/136492]\n",
      "\n",
      "FINISHED --2021-11-12 15:48:08--\n",
      "Total wall clock time: 0.5s\n",
      "Downloaded: 1 files, 133K in 0.2s (672 KB/s)\n",
      "--2021-11-12 15:48:08--  https://daacdata.apps.nsidc.org/pub/DATASETS/nsidc0051_gsfc_nasateam_seaice/final-gsfc/north/monthly/nt_202006_f17_v1.1_n.bin\n",
      "Resolving daacdata.apps.nsidc.org (daacdata.apps.nsidc.org)... 128.138.135.43\n",
      "Connecting to daacdata.apps.nsidc.org (daacdata.apps.nsidc.org)|128.138.135.43|:443... connected.\n"
     ]
    },
    {
     "name": "stdout",
     "output_type": "stream",
     "text": [
      "06\n"
     ]
    },
    {
     "name": "stderr",
     "output_type": "stream",
     "text": [
      "WARNING: cannot verify daacdata.apps.nsidc.org's certificate, issued by ‘/C=US/O=Let's Encrypt/CN=R3’:\n",
      "  Issued certificate has expired.\n",
      "HTTP request sent, awaiting response... 200 OK\n",
      "Length: 136492 (133K) [application/octet-stream]\n",
      "Saving to: ‘/workspace/Shared/Tech_Projects/Sea_Ice_Atlas/project_data/hsia_updates/nsidc_raw/2020/nt_202006_f17_v1.1_n.bin’\n",
      "\n",
      "     0K .......... .......... .......... .......... .......... 37%  379K 0s\n",
      "    50K .......... .......... .......... .......... .......... 75%  761K 0s\n",
      "   100K .......... .......... .......... ...                  100% 99.7M=0.2s\n",
      "\n",
      "2021-11-12 15:48:08 (673 KB/s) - ‘/workspace/Shared/Tech_Projects/Sea_Ice_Atlas/project_data/hsia_updates/nsidc_raw/2020/nt_202006_f17_v1.1_n.bin’ saved [136492/136492]\n",
      "\n",
      "FINISHED --2021-11-12 15:48:08--\n",
      "Total wall clock time: 0.5s\n",
      "Downloaded: 1 files, 133K in 0.2s (673 KB/s)\n",
      "--2021-11-12 15:48:08--  https://daacdata.apps.nsidc.org/pub/DATASETS/nsidc0051_gsfc_nasateam_seaice/final-gsfc/north/monthly/nt_202007_f17_v1.1_n.bin\n",
      "Resolving daacdata.apps.nsidc.org (daacdata.apps.nsidc.org)... 128.138.135.43\n",
      "Connecting to daacdata.apps.nsidc.org (daacdata.apps.nsidc.org)|128.138.135.43|:443... connected.\n"
     ]
    },
    {
     "name": "stdout",
     "output_type": "stream",
     "text": [
      "07\n"
     ]
    },
    {
     "name": "stderr",
     "output_type": "stream",
     "text": [
      "WARNING: cannot verify daacdata.apps.nsidc.org's certificate, issued by ‘/C=US/O=Let's Encrypt/CN=R3’:\n",
      "  Issued certificate has expired.\n",
      "HTTP request sent, awaiting response... 200 OK\n",
      "Length: 136492 (133K) [application/octet-stream]\n",
      "Saving to: ‘/workspace/Shared/Tech_Projects/Sea_Ice_Atlas/project_data/hsia_updates/nsidc_raw/2020/nt_202007_f17_v1.1_n.bin’\n",
      "\n",
      "     0K .......... .......... .......... .......... .......... 37%  381K 0s\n",
      "    50K .......... .......... .......... .......... .......... 75%  760K 0s\n",
      "   100K .......... .......... .......... ...                  100%  108M=0.2s\n",
      "\n",
      "2021-11-12 15:48:09 (676 KB/s) - ‘/workspace/Shared/Tech_Projects/Sea_Ice_Atlas/project_data/hsia_updates/nsidc_raw/2020/nt_202007_f17_v1.1_n.bin’ saved [136492/136492]\n",
      "\n",
      "FINISHED --2021-11-12 15:48:09--\n",
      "Total wall clock time: 0.5s\n",
      "Downloaded: 1 files, 133K in 0.2s (676 KB/s)\n",
      "--2021-11-12 15:48:09--  https://daacdata.apps.nsidc.org/pub/DATASETS/nsidc0051_gsfc_nasateam_seaice/final-gsfc/north/monthly/nt_202008_f17_v1.1_n.bin\n",
      "Resolving daacdata.apps.nsidc.org (daacdata.apps.nsidc.org)... 128.138.135.43\n",
      "Connecting to daacdata.apps.nsidc.org (daacdata.apps.nsidc.org)|128.138.135.43|:443... connected.\n"
     ]
    },
    {
     "name": "stdout",
     "output_type": "stream",
     "text": [
      "08\n"
     ]
    },
    {
     "name": "stderr",
     "output_type": "stream",
     "text": [
      "WARNING: cannot verify daacdata.apps.nsidc.org's certificate, issued by ‘/C=US/O=Let's Encrypt/CN=R3’:\n",
      "  Issued certificate has expired.\n",
      "HTTP request sent, awaiting response... 200 OK\n",
      "Length: 136492 (133K) [application/octet-stream]\n",
      "Saving to: ‘/workspace/Shared/Tech_Projects/Sea_Ice_Atlas/project_data/hsia_updates/nsidc_raw/2020/nt_202008_f17_v1.1_n.bin’\n",
      "\n",
      "     0K .......... .......... .......... .......... .......... 37%  378K 0s\n",
      "    50K .......... .......... .......... .......... .......... 75%  758K 0s\n",
      "   100K .......... .......... .......... ...                  100%  112M=0.2s\n",
      "\n",
      "2021-11-12 15:48:09 (671 KB/s) - ‘/workspace/Shared/Tech_Projects/Sea_Ice_Atlas/project_data/hsia_updates/nsidc_raw/2020/nt_202008_f17_v1.1_n.bin’ saved [136492/136492]\n",
      "\n",
      "FINISHED --2021-11-12 15:48:09--\n",
      "Total wall clock time: 0.5s\n",
      "Downloaded: 1 files, 133K in 0.2s (671 KB/s)\n",
      "--2021-11-12 15:48:09--  https://daacdata.apps.nsidc.org/pub/DATASETS/nsidc0051_gsfc_nasateam_seaice/final-gsfc/north/monthly/nt_202009_f17_v1.1_n.bin\n",
      "Resolving daacdata.apps.nsidc.org (daacdata.apps.nsidc.org)... 128.138.135.43\n",
      "Connecting to daacdata.apps.nsidc.org (daacdata.apps.nsidc.org)|128.138.135.43|:443... connected.\n"
     ]
    },
    {
     "name": "stdout",
     "output_type": "stream",
     "text": [
      "09\n"
     ]
    },
    {
     "name": "stderr",
     "output_type": "stream",
     "text": [
      "WARNING: cannot verify daacdata.apps.nsidc.org's certificate, issued by ‘/C=US/O=Let's Encrypt/CN=R3’:\n",
      "  Issued certificate has expired.\n",
      "HTTP request sent, awaiting response... 200 OK\n",
      "Length: 136492 (133K) [application/octet-stream]\n",
      "Saving to: ‘/workspace/Shared/Tech_Projects/Sea_Ice_Atlas/project_data/hsia_updates/nsidc_raw/2020/nt_202009_f17_v1.1_n.bin’\n",
      "\n",
      "     0K .......... .......... .......... .......... .......... 37%  379K 0s\n",
      "    50K .......... .......... .......... .......... .......... 75%  765K 0s\n",
      "   100K .......... .......... .......... ...                  100% 59.1M=0.2s\n",
      "\n",
      "2021-11-12 15:48:10 (674 KB/s) - ‘/workspace/Shared/Tech_Projects/Sea_Ice_Atlas/project_data/hsia_updates/nsidc_raw/2020/nt_202009_f17_v1.1_n.bin’ saved [136492/136492]\n",
      "\n",
      "FINISHED --2021-11-12 15:48:10--\n",
      "Total wall clock time: 0.5s\n",
      "Downloaded: 1 files, 133K in 0.2s (674 KB/s)\n",
      "--2021-11-12 15:48:10--  https://daacdata.apps.nsidc.org/pub/DATASETS/nsidc0051_gsfc_nasateam_seaice/final-gsfc/north/monthly/nt_202010_f17_v1.1_n.bin\n",
      "Resolving daacdata.apps.nsidc.org (daacdata.apps.nsidc.org)... 128.138.135.43\n",
      "Connecting to daacdata.apps.nsidc.org (daacdata.apps.nsidc.org)|128.138.135.43|:443... connected.\n"
     ]
    },
    {
     "name": "stdout",
     "output_type": "stream",
     "text": [
      "10\n"
     ]
    },
    {
     "name": "stderr",
     "output_type": "stream",
     "text": [
      "WARNING: cannot verify daacdata.apps.nsidc.org's certificate, issued by ‘/C=US/O=Let's Encrypt/CN=R3’:\n",
      "  Issued certificate has expired.\n",
      "HTTP request sent, awaiting response... 200 OK\n",
      "Length: 136492 (133K) [application/octet-stream]\n",
      "Saving to: ‘/workspace/Shared/Tech_Projects/Sea_Ice_Atlas/project_data/hsia_updates/nsidc_raw/2020/nt_202010_f17_v1.1_n.bin’\n",
      "\n",
      "     0K .......... .......... .......... .......... .......... 37%  369K 0s\n",
      "    50K .......... .......... .......... .......... .......... 75%  734K 0s\n",
      "   100K .......... .......... .......... ...                  100%  140M=0.2s\n",
      "\n",
      "2021-11-12 15:48:10 (654 KB/s) - ‘/workspace/Shared/Tech_Projects/Sea_Ice_Atlas/project_data/hsia_updates/nsidc_raw/2020/nt_202010_f17_v1.1_n.bin’ saved [136492/136492]\n",
      "\n",
      "FINISHED --2021-11-12 15:48:10--\n",
      "Total wall clock time: 0.5s\n",
      "Downloaded: 1 files, 133K in 0.2s (654 KB/s)\n",
      "--2021-11-12 15:48:10--  https://daacdata.apps.nsidc.org/pub/DATASETS/nsidc0051_gsfc_nasateam_seaice/final-gsfc/north/monthly/nt_202011_f17_v1.1_n.bin\n",
      "Resolving daacdata.apps.nsidc.org (daacdata.apps.nsidc.org)... 128.138.135.43\n",
      "Connecting to daacdata.apps.nsidc.org (daacdata.apps.nsidc.org)|128.138.135.43|:443... connected.\n"
     ]
    },
    {
     "name": "stdout",
     "output_type": "stream",
     "text": [
      "11\n"
     ]
    },
    {
     "name": "stderr",
     "output_type": "stream",
     "text": [
      "WARNING: cannot verify daacdata.apps.nsidc.org's certificate, issued by ‘/C=US/O=Let's Encrypt/CN=R3’:\n",
      "  Issued certificate has expired.\n",
      "HTTP request sent, awaiting response... 200 OK\n",
      "Length: 136492 (133K) [application/octet-stream]\n",
      "Saving to: ‘/workspace/Shared/Tech_Projects/Sea_Ice_Atlas/project_data/hsia_updates/nsidc_raw/2020/nt_202011_f17_v1.1_n.bin’\n",
      "\n",
      "     0K .......... .......... .......... .......... .......... 37%  378K 0s\n",
      "    50K .......... .......... .......... .......... .......... 75%  756K 0s\n",
      "   100K .......... .......... .......... ...                  100%  120M=0.2s\n",
      "\n",
      "2021-11-12 15:48:11 (670 KB/s) - ‘/workspace/Shared/Tech_Projects/Sea_Ice_Atlas/project_data/hsia_updates/nsidc_raw/2020/nt_202011_f17_v1.1_n.bin’ saved [136492/136492]\n",
      "\n",
      "FINISHED --2021-11-12 15:48:11--\n",
      "Total wall clock time: 0.5s\n",
      "Downloaded: 1 files, 133K in 0.2s (670 KB/s)\n",
      "--2021-11-12 15:48:11--  https://daacdata.apps.nsidc.org/pub/DATASETS/nsidc0051_gsfc_nasateam_seaice/final-gsfc/north/monthly/nt_202012_f17_v1.1_n.bin\n",
      "Resolving daacdata.apps.nsidc.org (daacdata.apps.nsidc.org)... 128.138.135.43\n",
      "Connecting to daacdata.apps.nsidc.org (daacdata.apps.nsidc.org)|128.138.135.43|:443... connected.\n"
     ]
    },
    {
     "name": "stdout",
     "output_type": "stream",
     "text": [
      "12\n"
     ]
    },
    {
     "name": "stderr",
     "output_type": "stream",
     "text": [
      "WARNING: cannot verify daacdata.apps.nsidc.org's certificate, issued by ‘/C=US/O=Let's Encrypt/CN=R3’:\n",
      "  Issued certificate has expired.\n",
      "HTTP request sent, awaiting response... 200 OK\n",
      "Length: 136492 (133K) [application/octet-stream]\n",
      "Saving to: ‘/workspace/Shared/Tech_Projects/Sea_Ice_Atlas/project_data/hsia_updates/nsidc_raw/2020/nt_202012_f17_v1.1_n.bin’\n",
      "\n",
      "     0K .......... .......... .......... .......... .......... 37%  377K 0s\n",
      "    50K .......... .......... .......... .......... .......... 75%  762K 0s\n",
      "   100K .......... .......... .......... ...                  100% 33.2M=0.2s\n",
      "\n",
      "2021-11-12 15:48:11 (669 KB/s) - ‘/workspace/Shared/Tech_Projects/Sea_Ice_Atlas/project_data/hsia_updates/nsidc_raw/2020/nt_202012_f17_v1.1_n.bin’ saved [136492/136492]\n",
      "\n",
      "FINISHED --2021-11-12 15:48:11--\n",
      "Total wall clock time: 0.5s\n",
      "Downloaded: 1 files, 133K in 0.2s (669 KB/s)\n"
     ]
    }
   ],
   "source": [
    "# options\n",
    "year = 2020\n",
    "out_dir = os.getenv(\"RAW_DIR\") or \"/workspace/Shared/Tech_Projects/Sea_Ice_Atlas/project_data/hsia_updates/nsidc_raw/2020\"\n",
    "\n",
    "import os\n",
    "import netrc\n",
    "from urllib.parse import urlparse\n",
    "\n",
    "info = netrc.netrc()\n",
    "username, account, password = info.authenticators(urlparse(\"https://urs.earthdata.nasa.gov\").hostname)\n",
    "\n",
    "for month in [\"{:02d}\".format(month + 1) for month in range(12)]:\n",
    "    print(month)\n",
    "    commanda = 'wget --load-cookies ~/.urs_cookies --save-cookies ~/.urs_cookies --keep-session-cookies --no-check-certificate --auth-no-challenge=on -r --reject \"index.html*\" -np -nd -e robots=off --user {} --password \"{}\" -P {} '.format(\n",
    "        username, password, out_dir\n",
    "    )\n",
    "    commandb = \"https://daacdata.apps.nsidc.org/pub/DATASETS/nsidc0051_gsfc_nasateam_seaice/final-gsfc/north/monthly/nt_{}{}_f17_v1.1_n.bin\".format(\n",
    "        str(year), month\n",
    "    )\n",
    "    os.system(commanda + commandb)"
   ]
  },
  {
   "cell_type": "markdown",
   "id": "8578b6dc-13a1-49f4-a43f-83bac266397a",
   "metadata": {},
   "source": [
    "### 2. Run the `hsia` code to process the data"
   ]
  },
  {
   "cell_type": "code",
   "execution_count": 1,
   "id": "0f010d20-7bb5-40af-9249-c5b4ec2ddbab",
   "metadata": {},
   "outputs": [],
   "source": [
    "# you may need to run this cell if calling anaconda-project from\n",
    "# env where these env vars are already set\n",
    "import os\n",
    "os.environ[\"PROJ_LIB\"] = f\"{os.getenv('CONDA_DEFAULT_ENV')}/share/proj\"\n",
    "os.environ[\"GDAL_DATA\"] = f\"{os.getenv('CONDA_DEFAULT_ENV')}/share/gdal\""
   ]
  },
  {
   "cell_type": "code",
   "execution_count": 2,
   "id": "ef5f9436-e97f-4cc8-a956-cb147ee7643a",
   "metadata": {},
   "outputs": [
    {
     "name": "stdout",
     "output_type": "stream",
     "text": [
      "working on: nt_202001_f17_v1.1_n.bin \n",
      "working on: nt_202002_f17_v1.1_n.bin \n",
      "working on: nt_202003_f17_v1.1_n.bin \n",
      "working on: nt_202004_f17_v1.1_n.bin \n",
      "working on: nt_202005_f17_v1.1_n.bin \n",
      "working on: nt_202006_f17_v1.1_n.bin \n",
      "working on: nt_202007_f17_v1.1_n.bin \n",
      "working on: nt_202008_f17_v1.1_n.bin \n",
      "working on: nt_202009_f17_v1.1_n.bin \n",
      "working on: nt_202010_f17_v1.1_n.bin \n",
      "working on: nt_202011_f17_v1.1_n.bin \n",
      "working on: nt_202012_f17_v1.1_n.bin \n"
     ]
    }
   ],
   "source": [
    "import hsia\n",
    "import os\n",
    "import glob\n",
    "import numpy as np\n",
    "\n",
    "template_path = '/workspace/Shared/Tech_Projects/Sea_Ice_Atlas/project_data/hsia_updates/hsia_template/seaice_conc_sic_mean_pct_monthly_ak_1971_04.tif'\n",
    "template = hsia.TemplateRaster( template_path )\n",
    "years = [2020]\n",
    "for year in years:\n",
    "    base_path = '/workspace/Shared/Tech_Projects/Sea_Ice_Atlas/project_data/hsia_updates'\n",
    "    dat_path = os.path.join( base_path, 'nsidc_raw', str(year) )\n",
    "    output_path = os.path.join( base_path, f'hsia_prepped_{year}' )\n",
    "\n",
    "    if not os.path.exists( output_path ):\n",
    "        os.makedirs( output_path )\n",
    "\n",
    "    l = glob.glob( os.path.join( dat_path, '*.bin' ) )\n",
    "    _ = [ hsia.main( fn, template, output_path ) for fn in l ]"
   ]
  },
  {
   "cell_type": "markdown",
   "id": "bd106493-9aae-4682-b622-beb9cb9668c8",
   "metadata": {
    "tags": []
   },
   "source": [
    "### 3. Copy the new files in\n",
    "\n",
    "Now work in the base data dir to combine the new files with the old and re-zip for distribution."
   ]
  },
  {
   "cell_type": "markdown",
   "id": "576662ed-9dc5-409e-aeee-83bf9541ba8a",
   "metadata": {},
   "source": [
    "Duplicate the previous collection with updated name:"
   ]
  },
  {
   "cell_type": "code",
   "execution_count": 19,
   "id": "bb722fc3-6f38-4835-b6f6-a40430a230ff",
   "metadata": {},
   "outputs": [],
   "source": [
    "cp -r /workspace/Shared/Tech_Projects/Sea_Ice_Atlas/project_data/hsia_updates/data_zip/seaice_conc_sic_mean_pct_ak_1850_01_2019_12 /workspace/Shared/Tech_Projects/Sea_Ice_Atlas/project_data/hsia_updates/data_zip/seaice_conc_sic_mean_pct_ak_1850_01_2020_12"
   ]
  },
  {
   "cell_type": "markdown",
   "id": "7b14ad74-3934-4402-a54a-dfe6fcbf0b81",
   "metadata": {},
   "source": [
    "Unzip the current monthly dataset:"
   ]
  },
  {
   "cell_type": "code",
   "execution_count": 30,
   "id": "e58f0d98-9889-4aff-a048-07fec067ee1e",
   "metadata": {
    "tags": []
   },
   "outputs": [],
   "source": [
    "!unzip -q /workspace/Shared/Tech_Projects/Sea_Ice_Atlas/project_data/hsia_updates/data_zip/seaice_conc_sic_mean_pct_ak_1850_01_2020_12/seaice_conc_sic_mean_pct_monthly_ak_1850_01_2019_12.zip -d /workspace/Shared/Tech_Projects/Sea_Ice_Atlas/project_data/hsia_updates/data_zip/seaice_conc_sic_mean_pct_ak_1850_01_2020_12/"
   ]
  },
  {
   "cell_type": "markdown",
   "id": "4b6a364e-d53d-4d52-9cf4-29b34f6906e5",
   "metadata": {},
   "source": [
    "Give that folder an updated name:"
   ]
  },
  {
   "cell_type": "code",
   "execution_count": 31,
   "id": "5a890f8e-8bb3-4233-8bd4-80278d1fd3c6",
   "metadata": {},
   "outputs": [],
   "source": [
    "mv /workspace/Shared/Tech_Projects/Sea_Ice_Atlas/project_data/hsia_updates/data_zip/seaice_conc_sic_mean_pct_ak_1850_01_2020_12/seaice_conc_sic_mean_pct_monthly_ak_1850_01_2019_12 /workspace/Shared/Tech_Projects/Sea_Ice_Atlas/project_data/hsia_updates/data_zip/seaice_conc_sic_mean_pct_ak_1850_01_2020_12/seaice_conc_sic_mean_pct_monthly_ak_1850_01_2020_12"
   ]
  },
  {
   "cell_type": "markdown",
   "id": "25976d69-dda5-46ce-a14e-30752968a799",
   "metadata": {},
   "source": [
    "Copy in the new files:"
   ]
  },
  {
   "cell_type": "code",
   "execution_count": 33,
   "id": "c23bb305-a071-494a-9152-57588eac6700",
   "metadata": {},
   "outputs": [],
   "source": [
    "cp /workspace/Shared/Tech_Projects/Sea_Ice_Atlas/project_data/hsia_updates/hsia_prepped_2020/*.tif /workspace/Shared/Tech_Projects/Sea_Ice_Atlas/project_data/hsia_updates/data_zip/seaice_conc_sic_mean_pct_ak_1850_01_2020_12/seaice_conc_sic_mean_pct_monthly_ak_1850_01_2020_12"
   ]
  },
  {
   "cell_type": "markdown",
   "id": "9b28a90b-07a8-4e0c-ba4c-4f9c522df87f",
   "metadata": {},
   "source": [
    "Remove the old `.zip`:"
   ]
  },
  {
   "cell_type": "code",
   "execution_count": null,
   "id": "5ae63b4b-07c7-4c2f-acd1-2e32f7a81c8c",
   "metadata": {
    "tags": []
   },
   "outputs": [],
   "source": [
    "rm /workspace/Shared/Tech_Projects/Sea_Ice_Atlas/project_data/hsia_updates/data_zip/seaice_conc_sic_mean_pct_ak_1850_01_2020_12/seaice_conc_sic_mean_pct_monthly_ak_1850_01_2019_12.zip"
   ]
  },
  {
   "cell_type": "markdown",
   "id": "af0c56db-d6df-4847-aad1-a227846807df",
   "metadata": {},
   "source": [
    "Zip the new monthly data:"
   ]
  },
  {
   "cell_type": "code",
   "execution_count": 41,
   "id": "ce1e6d29-72c4-4578-a462-2408b4b1315b",
   "metadata": {},
   "outputs": [],
   "source": [
    "!zip -rq /workspace/Shared/Tech_Projects/Sea_Ice_Atlas/project_data/hsia_updates/data_zip/seaice_conc_sic_mean_pct_ak_1850_01_2020_12/seaice_conc_sic_mean_pct_monthly_ak_1850_01_2020_12.zip /workspace/Shared/Tech_Projects/Sea_Ice_Atlas/project_data/hsia_updates/data_zip/seaice_conc_sic_mean_pct_ak_1850_01_2020_12/seaice_conc_sic_mean_pct_monthly_ak_1850_01_2020_12"
   ]
  },
  {
   "cell_type": "markdown",
   "id": "9da4e070-fa79-4eb3-a690-316bbf367992",
   "metadata": {},
   "source": [
    "Remove the folder of GeoTIFFs:"
   ]
  },
  {
   "cell_type": "code",
   "execution_count": 43,
   "id": "4f40986c-2c74-4de7-95a2-f0a863a336a8",
   "metadata": {},
   "outputs": [],
   "source": [
    "rm -r /workspace/Shared/Tech_Projects/Sea_Ice_Atlas/project_data/hsia_updates/data_zip/seaice_conc_sic_mean_pct_ak_1850_01_2020_12/seaice_conc_sic_mean_pct_monthly_ak_1850_01_2020_12"
   ]
  },
  {
   "cell_type": "markdown",
   "id": "021f907e-bb63-45cd-a18b-eb32d6978040",
   "metadata": {},
   "source": [
    "Finally, zip the new collection to `final_products`:"
   ]
  },
  {
   "cell_type": "code",
   "execution_count": 46,
   "id": "7c35c194-adf4-4cef-9beb-7db21b0050a5",
   "metadata": {
    "tags": []
   },
   "outputs": [],
   "source": [
    "!zip -rq /workspace/Shared/Tech_Projects/Sea_Ice_Atlas/final_products/seaice_conc_sic_mean_pct_ak_1850_01_2020_12.zip /workspace/Shared/Tech_Projects/Sea_Ice_Atlas/project_data/hsia_updates/data_zip/seaice_conc_sic_mean_pct_ak_1850_01_2020_12/"
   ]
  },
  {
   "cell_type": "code",
   "execution_count": null,
   "id": "22348b68-6560-4ed1-96d2-d714ddd71a20",
   "metadata": {},
   "outputs": [],
   "source": []
  }
 ],
 "metadata": {
  "kernelspec": {
   "display_name": "Python 3 (ipykernel)",
   "language": "python",
   "name": "python3"
  },
  "language_info": {
   "codemirror_mode": {
    "name": "ipython",
    "version": 3
   },
   "file_extension": ".py",
   "mimetype": "text/x-python",
   "name": "python",
   "nbconvert_exporter": "python",
   "pygments_lexer": "ipython3",
   "version": "3.9.7"
  }
 },
 "nbformat": 4,
 "nbformat_minor": 5
}
